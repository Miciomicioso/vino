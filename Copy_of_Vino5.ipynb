{
  "nbformat": 4,
  "nbformat_minor": 0,
  "metadata": {
    "colab": {
      "name": "Copy of Vino5.ipynb",
      "provenance": [],
      "authorship_tag": "ABX9TyNJ17PFVqabiOaVoMjy9bnQ",
      "include_colab_link": true
    },
    "kernelspec": {
      "name": "python3",
      "display_name": "Python 3"
    }
  },
  "cells": [
    {
      "cell_type": "markdown",
      "metadata": {
        "id": "view-in-github",
        "colab_type": "text"
      },
      "source": [
        "<a href=\"https://colab.research.google.com/github/Miciomicioso/vino/blob/master/Copy_of_Vino5.ipynb\" target=\"_parent\"><img src=\"https://colab.research.google.com/assets/colab-badge.svg\" alt=\"Open In Colab\"/></a>"
      ]
    },
    {
      "cell_type": "code",
      "metadata": {
        "id": "zBQc5ULZpENd",
        "colab_type": "code",
        "colab": {
          "base_uri": "https://localhost:8080/",
          "height": 125
        },
        "outputId": "b15b3baa-1f88-44a5-bc8b-9451921fcb3a"
      },
      "source": [
        "import torch\n",
        "import numpy as np\n",
        "import csv\n",
        "data_path=\"https://raw.githubusercontent.com/Miciomicioso/vino/master/winequality-red.csv \"\n",
        "data_numpy=np.loadtxt(data_path,dtype=np.float32,delimiter=\";\",skiprows=1)\n",
        "\n",
        "print(data_numpy.shape)\n",
        "x=torch.from_numpy(data_numpy)\n",
        "y=x[:1499,11]\n",
        "y_test=x[1499:,11]\n",
        "print(y)\n",
        "x_input=x[:1499,:11]\n",
        "x_test=x[1499:,:11]\n",
        "\n",
        "print(x_input.shape)\n",
        "print(x_test.shape)\n",
        "print(y.shape)\n",
        "print(y_test.shape)"
      ],
      "execution_count": null,
      "outputs": [
        {
          "output_type": "stream",
          "text": [
            "(1599, 12)\n",
            "tensor([5., 5., 5.,  ..., 5., 6., 6.])\n",
            "torch.Size([1499, 11])\n",
            "torch.Size([100, 11])\n",
            "torch.Size([1499])\n",
            "torch.Size([100])\n"
          ],
          "name": "stdout"
        }
      ]
    },
    {
      "cell_type": "code",
      "metadata": {
        "id": "x1axJR8a8WWO",
        "colab_type": "code",
        "colab": {}
      },
      "source": [
        ""
      ],
      "execution_count": null,
      "outputs": []
    }
  ]
}