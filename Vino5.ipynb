{
  "nbformat": 4,
  "nbformat_minor": 0,
  "metadata": {
    "colab": {
      "name": "Vino5.ipynb",
      "provenance": [],
      "authorship_tag": "ABX9TyO7RSG5ZU8UHXxpCJ4VyIXe",
      "include_colab_link": true
    },
    "kernelspec": {
      "name": "python3",
      "display_name": "Python 3"
    }
  },
  "cells": [
    {
      "cell_type": "markdown",
      "metadata": {
        "id": "view-in-github",
        "colab_type": "text"
      },
      "source": [
        "<a href=\"https://colab.research.google.com/github/Miciomicioso/vino/blob/master/Vino5.ipynb\" target=\"_parent\"><img src=\"https://colab.research.google.com/assets/colab-badge.svg\" alt=\"Open In Colab\"/></a>"
      ]
    },
    {
      "cell_type": "code",
      "metadata": {
        "id": "zBQc5ULZpENd",
        "colab_type": "code",
        "colab": {
          "base_uri": "https://localhost:8080/",
          "height": 125
        },
        "outputId": "f7c5b1d3-eb3d-4080-ee7f-b371a50c1d7e"
      },
      "source": [
        "import torch\n",
        "import numpy as np\n",
        "import csv\n",
        "data_path=\"https://raw.githubusercontent.com/Miciomicioso/vino/master/winequality-red.csv \"\n",
        "data_numpy=np.loadtxt(data_path,dtype=np.float32,delimiter=\";\",skiprows=1)\n",
        "\n",
        "print(data_numpy.shape)\n",
        "x=torch.from_numpy(data_numpy)\n",
        "y=x[:1499,11]\n",
        "y_test=x[1499:,11]\n",
        "print(y)\n",
        "x_input=x[:1499,:11]\n",
        "x_test=x[1499:,:11]\n",
        "\n",
        "print(x_input.shape)\n",
        "print(x_test.shape)\n",
        "print(y.shape)\n",
        "print(y_test.shape)"
      ],
      "execution_count": 1,
      "outputs": [
        {
          "output_type": "stream",
          "text": [
            "(1599, 12)\n",
            "tensor([5., 5., 5.,  ..., 5., 6., 6.])\n",
            "torch.Size([1499, 11])\n",
            "torch.Size([100, 11])\n",
            "torch.Size([1499])\n",
            "torch.Size([100])\n"
          ],
          "name": "stdout"
        }
      ]
    },
    {
      "cell_type": "code",
      "metadata": {
        "id": "x1axJR8a8WWO",
        "colab_type": "code",
        "colab": {
          "base_uri": "https://localhost:8080/",
          "height": 71
        },
        "outputId": "e693ce13-4cdd-4ba6-ee90-9072b0afb16c"
      },
      "source": [
        "w= torch.rand(1,11,requires_grad=True)\n",
        "b= torch.rand(1)\n",
        "print(w)\n",
        "print(b)"
      ],
      "execution_count": 2,
      "outputs": [
        {
          "output_type": "stream",
          "text": [
            "tensor([[0.5695, 0.7554, 0.0251, 0.4298, 0.1200, 0.3796, 0.7740, 0.3142, 0.4522,\n",
            "         0.0368, 0.3043]], requires_grad=True)\n",
            "tensor([0.1831])\n"
          ],
          "name": "stdout"
        }
      ]
    },
    {
      "cell_type": "code",
      "metadata": {
        "id": "lSZY9Dv0srET",
        "colab_type": "code",
        "colab": {}
      },
      "source": [
        "import torch.nn as nn\n",
        "model=nn.Linear(11,1,True)"
      ],
      "execution_count": 5,
      "outputs": []
    },
    {
      "cell_type": "code",
      "metadata": {
        "id": "8M8ylJHYu7v2",
        "colab_type": "code",
        "colab": {
          "base_uri": "https://localhost:8080/",
          "height": 143
        },
        "outputId": "5610827c-6974-4354-d468-0ffe6c741de2"
      },
      "source": [
        "pred=model(x_input)\n",
        "print(pred)"
      ],
      "execution_count": 7,
      "outputs": [
        {
          "output_type": "stream",
          "text": [
            "tensor([[ 4.9270],\n",
            "        [ 7.6525],\n",
            "        [ 6.4376],\n",
            "        ...,\n",
            "        [13.0202],\n",
            "        [ 3.7192],\n",
            "        [ 3.4115]], grad_fn=<AddmmBackward>)\n"
          ],
          "name": "stdout"
        }
      ]
    },
    {
      "cell_type": "code",
      "metadata": {
        "id": "k14t6imYvE8J",
        "colab_type": "code",
        "colab": {}
      },
      "source": [
        ""
      ],
      "execution_count": null,
      "outputs": []
    }
  ]
}