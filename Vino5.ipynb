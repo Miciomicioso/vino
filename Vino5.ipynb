{
  "nbformat": 4,
  "nbformat_minor": 0,
  "metadata": {
    "colab": {
      "name": "Vino5.ipynb",
      "provenance": [],
      "collapsed_sections": [],
      "authorship_tag": "ABX9TyPwwLtGIkDgxGJdFS4q4aHq",
      "include_colab_link": true
    },
    "kernelspec": {
      "name": "python3",
      "display_name": "Python 3"
    }
  },
  "cells": [
    {
      "cell_type": "markdown",
      "metadata": {
        "id": "view-in-github",
        "colab_type": "text"
      },
      "source": [
        "<a href=\"https://colab.research.google.com/github/Miciomicioso/vino/blob/master/Vino5.ipynb\" target=\"_parent\"><img src=\"https://colab.research.google.com/assets/colab-badge.svg\" alt=\"Open In Colab\"/></a>"
      ]
    },
    {
      "cell_type": "code",
      "metadata": {
        "id": "zBQc5ULZpENd",
        "colab_type": "code",
        "colab": {
          "base_uri": "https://localhost:8080/",
          "height": 125
        },
        "outputId": "316f6b80-010c-4ef1-d9f3-6d20edbf1a57"
      },
      "source": [
        "import torch\n",
        "import numpy as np\n",
        "import csv\n",
        "data_path=\"https://raw.githubusercontent.com/Miciomicioso/vino/master/winequality-red.csv \"\n",
        "data_numpy=np.loadtxt(data_path,dtype=np.float32,delimiter=\";\",skiprows=1)\n",
        "\n",
        "print(data_numpy.shape)\n",
        "x=torch.from_numpy(data_numpy)\n",
        "y=x[:1499,11]\n",
        "y_test=x[1499:,11]\n",
        "print(y)\n",
        "x_input=x[:1499,:11]\n",
        "x_test=x[1499:,:11]\n",
        "\n",
        "print(x_input.shape)\n",
        "print(x_test.shape)\n",
        "print(y.shape)\n",
        "print(y_test.shape)"
      ],
      "execution_count": 5,
      "outputs": [
        {
          "output_type": "stream",
          "text": [
            "(1599, 12)\n",
            "tensor([5., 5., 5.,  ..., 5., 6., 6.])\n",
            "torch.Size([1499, 11])\n",
            "torch.Size([100, 11])\n",
            "torch.Size([1499])\n",
            "torch.Size([100])\n"
          ],
          "name": "stdout"
        }
      ]
    },
    {
      "cell_type": "code",
      "metadata": {
        "id": "x1axJR8a8WWO",
        "colab_type": "code",
        "colab": {
          "base_uri": "https://localhost:8080/",
          "height": 71
        },
        "outputId": "bbdf2024-0ecd-4b33-f66b-df7d43f5d4d9"
      },
      "source": [
        "w= torch.rand(1,11,requires_grad=True)\n",
        "b= torch.rand(1)\n",
        "print(w)\n",
        "print(b)"
      ],
      "execution_count": 6,
      "outputs": [
        {
          "output_type": "stream",
          "text": [
            "tensor([[0.3741, 0.5547, 0.2221, 0.7856, 0.6503, 0.1694, 0.7579, 0.6939, 0.7582,\n",
            "         0.5287, 0.2206]], requires_grad=True)\n",
            "tensor([0.1919])\n"
          ],
          "name": "stdout"
        }
      ]
    },
    {
      "cell_type": "code",
      "metadata": {
        "id": "lSZY9Dv0srET",
        "colab_type": "code",
        "colab": {}
      },
      "source": [
        "import torch.nn as nn\n",
        "model=nn.Linear(11,1,True)\n",
        "\n",
        "#print(model.weight)\n",
        "#print(model.bias)"
      ],
      "execution_count": 7,
      "outputs": []
    },
    {
      "cell_type": "code",
      "metadata": {
        "id": "8M8ylJHYu7v2",
        "colab_type": "code",
        "colab": {
          "base_uri": "https://localhost:8080/",
          "height": 433
        },
        "outputId": "6e171c56-76ea-4e9e-dba9-08a0ed6889bb"
      },
      "source": [
        "n_iter =10\n",
        "learning_rate=0.01\n",
        "loss=nn.MSELoss()\n",
        "for i in range(n_iter):\n",
        "  pred=model(x_input[i])\n",
        "  l=loss(y[i],pred)\n",
        "  print(l)\n",
        "  print(pred)"
      ],
      "execution_count": 10,
      "outputs": [
        {
          "output_type": "stream",
          "text": [
            "tensor(116.3552, grad_fn=<MeanBackward0>)\n",
            "tensor([-5.7868], grad_fn=<AddBackward0>)\n",
            "tensor(388.4362, grad_fn=<MeanBackward0>)\n",
            "tensor([-14.7088], grad_fn=<AddBackward0>)\n",
            "tensor(268.0558, grad_fn=<MeanBackward0>)\n",
            "tensor([-11.3724], grad_fn=<AddBackward0>)\n",
            "tensor(342.0135, grad_fn=<MeanBackward0>)\n",
            "tensor([-12.4936], grad_fn=<AddBackward0>)\n",
            "tensor(116.3552, grad_fn=<MeanBackward0>)\n",
            "tensor([-5.7868], grad_fn=<AddBackward0>)\n",
            "tensor(156.5763, grad_fn=<MeanBackward0>)\n",
            "tensor([-7.5130], grad_fn=<AddBackward0>)\n",
            "tensor(324.8901, grad_fn=<MeanBackward0>)\n",
            "tensor([-13.0247], grad_fn=<AddBackward0>)\n",
            "tensor(75.2666, grad_fn=<MeanBackward0>)\n",
            "tensor([-1.6756], grad_fn=<AddBackward0>)\n",
            "tensor(63.8733, grad_fn=<MeanBackward0>)\n",
            "tensor([-0.9921], grad_fn=<AddBackward0>)\n",
            "tensor(918.5524, grad_fn=<MeanBackward0>)\n",
            "tensor([-25.3076], grad_fn=<AddBackward0>)\n"
          ],
          "name": "stdout"
        },
        {
          "output_type": "stream",
          "text": [
            "/usr/local/lib/python3.6/dist-packages/torch/nn/modules/loss.py:432: UserWarning: Using a target size (torch.Size([1])) that is different to the input size (torch.Size([])). This will likely lead to incorrect results due to broadcasting. Please ensure they have the same size.\n",
            "  return F.mse_loss(input, target, reduction=self.reduction)\n"
          ],
          "name": "stderr"
        }
      ]
    },
    {
      "cell_type": "code",
      "metadata": {
        "id": "k14t6imYvE8J",
        "colab_type": "code",
        "colab": {}
      },
      "source": [
        ""
      ],
      "execution_count": 8,
      "outputs": []
    }
  ]
}