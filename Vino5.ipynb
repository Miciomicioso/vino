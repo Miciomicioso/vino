{
  "nbformat": 4,
  "nbformat_minor": 0,
  "metadata": {
    "colab": {
      "name": "Vino5.ipynb",
      "provenance": [],
      "authorship_tag": "ABX9TyN0nfMuSHwl1MBL+hhfxcuu",
      "include_colab_link": true
    },
    "kernelspec": {
      "name": "python3",
      "display_name": "Python 3"
    }
  },
  "cells": [
    {
      "cell_type": "markdown",
      "metadata": {
        "id": "view-in-github",
        "colab_type": "text"
      },
      "source": [
        "<a href=\"https://colab.research.google.com/github/Miciomicioso/vino/blob/master/Vino5.ipynb\" target=\"_parent\"><img src=\"https://colab.research.google.com/assets/colab-badge.svg\" alt=\"Open In Colab\"/></a>"
      ]
    },
    {
      "cell_type": "code",
      "metadata": {
        "id": "zBQc5ULZpENd",
        "colab_type": "code",
        "colab": {
          "base_uri": "https://localhost:8080/",
          "height": 179
        },
        "outputId": "d65b8555-9be7-42dc-eec7-a3a161828846"
      },
      "source": [
        "import torch\n",
        "import numpy as np\n",
        "import csv\n",
        "data_path=\"/content/winequality-red.csv\"\n",
        "data_numpy=np.loadtxt(data_path,dtype=np.float32,delimiter=\";\",skiprows=1)\n",
        "\n",
        "print(data_numpy.shape)\n",
        "x=torch.from_numpy(data_numpy)\n",
        "y=x[:,11]\n",
        "print(y)\n",
        "x_input=x[:,:11]\n",
        "print(x_input)"
      ],
      "execution_count": 16,
      "outputs": [
        {
          "output_type": "stream",
          "text": [
            "(1599, 12)\n",
            "tensor([5., 5., 5.,  ..., 6., 5., 6.])\n",
            "tensor([[ 7.4000,  0.7000,  0.0000,  ...,  3.5100,  0.5600,  9.4000],\n",
            "        [ 7.8000,  0.8800,  0.0000,  ...,  3.2000,  0.6800,  9.8000],\n",
            "        [ 7.8000,  0.7600,  0.0400,  ...,  3.2600,  0.6500,  9.8000],\n",
            "        ...,\n",
            "        [ 6.3000,  0.5100,  0.1300,  ...,  3.4200,  0.7500, 11.0000],\n",
            "        [ 5.9000,  0.6450,  0.1200,  ...,  3.5700,  0.7100, 10.2000],\n",
            "        [ 6.0000,  0.3100,  0.4700,  ...,  3.3900,  0.6600, 11.0000]])\n"
          ],
          "name": "stdout"
        }
      ]
    },
    {
      "cell_type": "code",
      "metadata": {
        "id": "x1axJR8a8WWO",
        "colab_type": "code",
        "colab": {}
      },
      "source": [
        ""
      ],
      "execution_count": null,
      "outputs": []
    }
  ]
}